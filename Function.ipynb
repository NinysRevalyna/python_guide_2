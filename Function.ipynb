{
 "cells": [
  {
   "cell_type": "markdown",
   "id": "81fdbf3d",
   "metadata": {},
   "source": [
    "# Function"
   ]
  },
  {
   "cell_type": "markdown",
   "id": "5cb197ca",
   "metadata": {},
   "source": [
    "- In mathematics, a function is a process that relates between an input (input) and an output (output)\n",
    "- In Python, apart from these relational functions, functions are also a way to organize code - with the ultimate goal of code being reusable.\n",
    "- It is best if functions only have one specific use but can be reused.\n",
    "- Common functions are provided by Python.\n",
    "- But we can always define our own functions."
   ]
  },
  {
   "cell_type": "markdown",
   "id": "e6ea11dc",
   "metadata": {},
   "source": [
    "# Defining function:"
   ]
  },
  {
   "cell_type": "markdown",
   "id": "ac25d798",
   "metadata": {},
   "source": [
    "- Functions are defined with the def keyword followed by the function name and parameters in brackets ()\n",
    "- Optionally, you can add documentation docstrings that explain the context of the function.\n",
    "- Code blocks within each function start with a colon and use indentation.\n",
    "- The function stops when there is a return (expression) statement which returns (expression] to the caller.\n",
    "- You can also make a function not return output with return None."
   ]
  },
  {
   "cell_type": "code",
   "execution_count": 1,
   "id": "fe213c6c",
   "metadata": {},
   "outputs": [
    {
     "data": {
      "text/plain": [
       "25"
      ]
     },
     "execution_count": 1,
     "metadata": {},
     "output_type": "execute_result"
    }
   ],
   "source": [
    "def pangkat(x):\n",
    "    kuadrat = x**2 \n",
    "    return kuadrat\n",
    "pangkat(5)"
   ]
  },
  {
   "cell_type": "code",
   "execution_count": 2,
   "id": "835e2ce1",
   "metadata": {},
   "outputs": [
    {
     "name": "stdout",
     "output_type": "stream",
     "text": [
      "8\n"
     ]
    }
   ],
   "source": [
    "def pangkat_tiga(x):\n",
    "    kubik = x**3\n",
    "    print(kubik)\n",
    "pangkat_tiga(2)"
   ]
  },
  {
   "cell_type": "markdown",
   "id": "f69fe664",
   "metadata": {},
   "source": [
    "Task 1"
   ]
  },
  {
   "cell_type": "code",
   "execution_count": 3,
   "id": "7bbef588",
   "metadata": {},
   "outputs": [
    {
     "name": "stdout",
     "output_type": "stream",
     "text": [
      "Hasil penjumlahan: 7\n"
     ]
    }
   ],
   "source": [
    "def tambah(a, b):\n",
    "    hasil = a + b\n",
    "    return hasil\n",
    "hasil_penjumlahan = tambah(3, 4)\n",
    "print(\"Hasil penjumlahan:\", hasil_penjumlahan)"
   ]
  },
  {
   "cell_type": "code",
   "execution_count": 4,
   "id": "3e8afc86",
   "metadata": {},
   "outputs": [
    {
     "name": "stdout",
     "output_type": "stream",
     "text": [
      "Luas segitiga dengan alas 5 dan tinggi 3 adalah 7.5\n"
     ]
    }
   ],
   "source": [
    "def luas_segitiga(alas, tinggi):\n",
    "    luas = (1/2) * alas * tinggi\n",
    "    return luas\n",
    "\n",
    "alas_segitiga = 5\n",
    "tinggi_segitiga = 3\n",
    "\n",
    "hasil = luas_segitiga(alas_segitiga, tinggi_segitiga)\n",
    "print(f'Luas segitiga dengan alas {alas_segitiga} dan tinggi {tinggi_segitiga} adalah {hasil}')"
   ]
  },
  {
   "cell_type": "markdown",
   "id": "eb3fc9d1",
   "metadata": {},
   "source": [
    "By default, Python will position each parameter according to the order in which they were registered when they were defined, and must be called in that order."
   ]
  },
  {
   "cell_type": "code",
   "execution_count": 5,
   "id": "e132cd00",
   "metadata": {},
   "outputs": [
    {
     "data": {
      "text/plain": [
       "'Hai Ninys'"
      ]
     },
     "execution_count": 5,
     "metadata": {},
     "output_type": "execute_result"
    }
   ],
   "source": [
    "def nama(x):\n",
    "    halo = 'Hai {}'.format(x)\n",
    "    return halo\n",
    "nama('Ninys')"
   ]
  },
  {
   "cell_type": "code",
   "execution_count": 6,
   "id": "5027f10d",
   "metadata": {},
   "outputs": [
    {
     "name": "stdout",
     "output_type": "stream",
     "text": [
      "Halo, Ninys!\n"
     ]
    }
   ],
   "source": [
    "def sapa(nama):\n",
    "    print(f\"Halo, {nama}!\")\n",
    "sapa(\"Ninys\")"
   ]
  },
  {
   "cell_type": "markdown",
   "id": "38c12a11",
   "metadata": {},
   "source": [
    "# Return"
   ]
  },
  {
   "cell_type": "markdown",
   "id": "f584533d",
   "metadata": {},
   "source": [
    "The return [expression] statement will make program execution exit the current function, while returning a certain value."
   ]
  },
  {
   "cell_type": "code",
   "execution_count": 7,
   "id": "b18812ec",
   "metadata": {},
   "outputs": [
    {
     "name": "stdout",
     "output_type": "stream",
     "text": [
      "Hasil penjumlahan adalah 5\n"
     ]
    },
    {
     "data": {
      "text/plain": [
       "5"
      ]
     },
     "execution_count": 7,
     "metadata": {},
     "output_type": "execute_result"
    }
   ],
   "source": [
    "def tambah(x,y):\n",
    "    plus = x+y\n",
    "    print('Hasil penjumlahan adalah {}'.format(plus))\n",
    "    return plus\n",
    "tambah(2,3)"
   ]
  },
  {
   "cell_type": "code",
   "execution_count": 8,
   "id": "c296b391",
   "metadata": {},
   "outputs": [
    {
     "name": "stdout",
     "output_type": "stream",
     "text": [
      "Hasil penjumlahan adalah 5\n",
      "Hasil dari return adalah 5\n"
     ]
    }
   ],
   "source": [
    "output = tambah(2,3)\n",
    "print('Hasil dari return adalah {}'.format(output))"
   ]
  },
  {
   "cell_type": "markdown",
   "id": "a94acb42",
   "metadata": {},
   "source": [
    "Task 2"
   ]
  },
  {
   "cell_type": "code",
   "execution_count": 9,
   "id": "2c401712",
   "metadata": {},
   "outputs": [
    {
     "data": {
      "text/plain": [
       "'Selamat Pagi, Ninys!'"
      ]
     },
     "execution_count": 9,
     "metadata": {},
     "output_type": "execute_result"
    }
   ],
   "source": [
    "def menyapa(waktu,nama):\n",
    "    sapaan = 'Selamat {}, {}!'.format(waktu, nama)\n",
    "    return sapaan\n",
    "\n",
    "menyapa('Pagi', 'Ninys')"
   ]
  },
  {
   "cell_type": "code",
   "execution_count": 14,
   "id": "390326a9",
   "metadata": {},
   "outputs": [
    {
     "name": "stdout",
     "output_type": "stream",
     "text": [
      "Hasil perkalian antara 5 dan 2 adalah 10\n"
     ]
    }
   ],
   "source": [
    "def kali(a,b):\n",
    "    perkalian = a*b\n",
    "    print('Hasil perkalian antara {} dan {} adalah {}'.format(a, b, perkalian))\n",
    "kali(5, 2)"
   ]
  },
  {
   "cell_type": "markdown",
   "id": "1fc139ef",
   "metadata": {},
   "source": [
    "Task 3"
   ]
  },
  {
   "cell_type": "code",
   "execution_count": 15,
   "id": "212d5b82",
   "metadata": {},
   "outputs": [
    {
     "data": {
      "text/plain": [
       "150.0"
      ]
     },
     "execution_count": 15,
     "metadata": {},
     "output_type": "execute_result"
    }
   ],
   "source": [
    "def random(a, b):\n",
    "    a = a*b\n",
    "    b = a/b\n",
    "    hasil = a + b\n",
    "    return hasil\n",
    "random(50, 2)"
   ]
  }
 ],
 "metadata": {
  "kernelspec": {
   "display_name": "Python 3 (ipykernel)",
   "language": "python",
   "name": "python3"
  },
  "language_info": {
   "codemirror_mode": {
    "name": "ipython",
    "version": 3
   },
   "file_extension": ".py",
   "mimetype": "text/x-python",
   "name": "python",
   "nbconvert_exporter": "python",
   "pygments_lexer": "ipython3",
   "version": "3.11.4"
  }
 },
 "nbformat": 4,
 "nbformat_minor": 5
}
