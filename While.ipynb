{
 "cells": [
  {
   "cell_type": "markdown",
   "id": "29a42f59",
   "metadata": {},
   "source": [
    "# While"
   ]
  },
  {
   "cell_type": "markdown",
   "id": "dee7eb30",
   "metadata": {},
   "source": [
    "- While in the Python language is used to execute a statement as long as a given condition is met (True)\n",
    "- The condition can be any expression, and please remember that True in python includes all non-zero values\n",
    "- When the condition becomes False, the program will continue to the line after the statement block"
   ]
  },
  {
   "cell_type": "code",
   "execution_count": 1,
   "id": "11b99126",
   "metadata": {},
   "outputs": [
    {
     "name": "stdout",
     "output_type": "stream",
     "text": [
      "1\n",
      "bilangan 1\n",
      "bilangan 2\n"
     ]
    }
   ],
   "source": [
    "angka = int(input())\n",
    "\n",
    "while (angka < 3):\n",
    "    print('bilangan {}'.format(angka))\n",
    "    angka = angka + 1"
   ]
  },
  {
   "cell_type": "code",
   "execution_count": 2,
   "id": "14df1e1e",
   "metadata": {},
   "outputs": [
    {
     "name": "stdout",
     "output_type": "stream",
     "text": [
      "1\n",
      "bilangan 1\n",
      "bilangan 3\n",
      "bilangan 5\n",
      "bilangan 7\n",
      "bilangan 9\n"
     ]
    }
   ],
   "source": [
    "angka = int(input())\n",
    "\n",
    "while (angka < 10):\n",
    "    print('bilangan {}'.format(angka))\n",
    "    angka = angka + 2"
   ]
  },
  {
   "cell_type": "markdown",
   "id": "561d995c",
   "metadata": {},
   "source": [
    "Task 1"
   ]
  },
  {
   "cell_type": "code",
   "execution_count": 3,
   "id": "7eac5995",
   "metadata": {},
   "outputs": [
    {
     "name": "stdout",
     "output_type": "stream",
     "text": [
      "Masukkan bilangan bulat x = 5\n",
      "1\n",
      "2\n",
      "3\n",
      "4\n",
      "5\n"
     ]
    }
   ],
   "source": [
    "i = 1\n",
    "x = int(input('Masukkan bilangan bulat x = '))\n",
    "\n",
    "while i <= x:\n",
    "    print(i)\n",
    "    i = i + 1"
   ]
  },
  {
   "cell_type": "markdown",
   "id": "35c17773",
   "metadata": {},
   "source": [
    "# Else After While"
   ]
  },
  {
   "cell_type": "markdown",
   "id": "b4b9bd6e",
   "metadata": {},
   "source": [
    "In the while statement, the else statement block will always be executed when the condition in the while becomes false"
   ]
  },
  {
   "cell_type": "code",
   "execution_count": 5,
   "id": "eb9b7197",
   "metadata": {},
   "outputs": [
    {
     "name": "stdout",
     "output_type": "stream",
     "text": [
      "1\n",
      "3\n",
      "5\n",
      "7\n",
      "9\n",
      "11\n",
      "loop selesai\n"
     ]
    }
   ],
   "source": [
    "angka = int(input())\n",
    "\n",
    "while (angka < 10):\n",
    "    angka = angka + 2\n",
    "    if angka == 6:\n",
    "        break\n",
    "    print(angka)\n",
    "else:\n",
    "    print('loop selesai')"
   ]
  },
  {
   "cell_type": "code",
   "execution_count": 6,
   "id": "bcbb534b",
   "metadata": {},
   "outputs": [
    {
     "name": "stdout",
     "output_type": "stream",
     "text": [
      "10\n",
      "8\n",
      "6\n",
      "4\n",
      "2\n",
      "0\n",
      "loop selesai\n"
     ]
    }
   ],
   "source": [
    "angka = int(input())\n",
    "\n",
    "while (angka > 0):\n",
    "    angka = angka - 2\n",
    "    print(angka)\n",
    "else:\n",
    "    print('loop selesai')"
   ]
  },
  {
   "cell_type": "markdown",
   "id": "4eefe333",
   "metadata": {},
   "source": [
    "# Hackerrank"
   ]
  },
  {
   "cell_type": "code",
   "execution_count": 7,
   "id": "89550591",
   "metadata": {},
   "outputs": [
    {
     "name": "stdout",
     "output_type": "stream",
     "text": [
      "2\n",
      "Not Weird\n"
     ]
    }
   ],
   "source": [
    "if __name__ == '__main__':\n",
    "    n = int(input().strip())\n",
    "    if n%2 != 0:\n",
    "        print('Weird')\n",
    "    else:\n",
    "        if (1<= n <= 10):\n",
    "            print('Not Weird')\n",
    "        elif (11 <= n <= 20):\n",
    "            print('Weird')\n",
    "        elif (21 < n <= 100):\n",
    "            print('Not Weird')"
   ]
  },
  {
   "cell_type": "code",
   "execution_count": 8,
   "id": "4f1fb6e1",
   "metadata": {},
   "outputs": [
    {
     "name": "stdout",
     "output_type": "stream",
     "text": [
      "Masukkan tahun :2002\n",
      "2002 bukan tahun kabisat\n"
     ]
    }
   ],
   "source": [
    "year = int(input('Masukkan tahun :').strip())\n",
    "\n",
    "if (year % 4 == 0 and year % 100 != 0) or (year % 400 == 0):\n",
    "    print(f'{year} adalah tahun kabisat')\n",
    "else:\n",
    "    print(f'{year} bukan tahun kabisat')"
   ]
  }
 ],
 "metadata": {
  "kernelspec": {
   "display_name": "Python 3 (ipykernel)",
   "language": "python",
   "name": "python3"
  },
  "language_info": {
   "codemirror_mode": {
    "name": "ipython",
    "version": 3
   },
   "file_extension": ".py",
   "mimetype": "text/x-python",
   "name": "python",
   "nbconvert_exporter": "python",
   "pygments_lexer": "ipython3",
   "version": "3.11.4"
  }
 },
 "nbformat": 4,
 "nbformat_minor": 5
}
