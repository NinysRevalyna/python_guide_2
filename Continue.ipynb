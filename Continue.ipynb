{
 "cells": [
  {
   "cell_type": "markdown",
   "id": "da8d4dc6",
   "metadata": {},
   "source": [
    "# Continue"
   ]
  },
  {
   "cell_type": "markdown",
   "id": "311a48a1",
   "metadata": {},
   "source": [
    "- The continue statement will make the current iteration stop\n",
    "- Then proceed to the next iteration\n",
    "- Ignore statements that are between continue and the end of the loop block"
   ]
  },
  {
   "cell_type": "code",
   "execution_count": 1,
   "id": "faf3ca4b",
   "metadata": {},
   "outputs": [
    {
     "name": "stdout",
     "output_type": "stream",
     "text": [
      "D\n",
      "t\n",
      " \n",
      "n\n",
      "l\n",
      "y\n",
      "s\n",
      "i\n",
      "s\n"
     ]
    }
   ],
   "source": [
    "for i in 'Data analysis':\n",
    "    if i == 'a':\n",
    "        continue\n",
    "    print(i)"
   ]
  },
  {
   "cell_type": "code",
   "execution_count": 2,
   "id": "1701af4d",
   "metadata": {},
   "outputs": [
    {
     "name": "stdout",
     "output_type": "stream",
     "text": [
      "1\n",
      "2\n",
      "Terdapat bilangan habis dibagi 3 bukan habis dibagi 2\n",
      "4\n",
      "5\n",
      "Terdapat bilangan habis dibagi 2 dan 3\n"
     ]
    }
   ],
   "source": [
    "for no in range(1, 20):\n",
    "    if no % 3 == 0:\n",
    "        if no % 2 == 0:\n",
    "            print('Terdapat bilangan habis dibagi 2 dan 3')\n",
    "            break\n",
    "        else:\n",
    "            print('Terdapat bilangan habis dibagi 3 bukan habis dibagi 2')\n",
    "            continue\n",
    "    print(no)"
   ]
  }
 ],
 "metadata": {
  "kernelspec": {
   "display_name": "Python 3 (ipykernel)",
   "language": "python",
   "name": "python3"
  },
  "language_info": {
   "codemirror_mode": {
    "name": "ipython",
    "version": 3
   },
   "file_extension": ".py",
   "mimetype": "text/x-python",
   "name": "python",
   "nbconvert_exporter": "python",
   "pygments_lexer": "ipython3",
   "version": "3.11.4"
  }
 },
 "nbformat": 4,
 "nbformat_minor": 5
}
