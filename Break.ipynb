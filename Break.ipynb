{
 "cells": [
  {
   "cell_type": "markdown",
   "id": "a8647c2c",
   "metadata": {},
   "source": [
    "# Break"
   ]
  },
  {
   "cell_type": "markdown",
   "id": "62f48251",
   "metadata": {},
   "source": [
    "- The break statement stops the loop and then exits, followed by executing the statement after the loop block\n",
    "- If you have a nested loop, break will stop the loop according to the level or loop it is in\n",
    "- However, if it is placed in a second depth loop, for example, only that loop stops, not the main loop"
   ]
  },
  {
   "cell_type": "code",
   "execution_count": 1,
   "id": "bda502e9",
   "metadata": {},
   "outputs": [
    {
     "name": "stdout",
     "output_type": "stream",
     "text": [
      "D\n",
      "a\n",
      "t\n",
      "a\n"
     ]
    }
   ],
   "source": [
    "for i in 'Data Science':\n",
    "    if i == ' ':\n",
    "        break\n",
    "    print(i)"
   ]
  },
  {
   "cell_type": "markdown",
   "id": "80bc3bba",
   "metadata": {},
   "source": [
    "Task 1"
   ]
  },
  {
   "cell_type": "code",
   "execution_count": 2,
   "id": "20801f23",
   "metadata": {},
   "outputs": [
    {
     "name": "stdout",
     "output_type": "stream",
     "text": [
      "N\n",
      "i\n",
      "n\n",
      "y\n",
      "s\n"
     ]
    }
   ],
   "source": [
    "for j in 'Ninys Revalyna':\n",
    "    if j == ' ':\n",
    "        break\n",
    "    print(j)"
   ]
  }
 ],
 "metadata": {
  "kernelspec": {
   "display_name": "Python 3 (ipykernel)",
   "language": "python",
   "name": "python3"
  },
  "language_info": {
   "codemirror_mode": {
    "name": "ipython",
    "version": 3
   },
   "file_extension": ".py",
   "mimetype": "text/x-python",
   "name": "python",
   "nbconvert_exporter": "python",
   "pygments_lexer": "ipython3",
   "version": "3.11.4"
  }
 },
 "nbformat": 4,
 "nbformat_minor": 5
}
