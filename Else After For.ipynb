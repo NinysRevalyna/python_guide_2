{
 "cells": [
  {
   "cell_type": "markdown",
   "id": "e05fda1a",
   "metadata": {},
   "source": [
    "# Else After For"
   ]
  },
  {
   "cell_type": "markdown",
   "id": "abc861fa",
   "metadata": {},
   "source": [
    "The else function after for is a function that takes precedence in search loops to provide a program exit when the search is not found."
   ]
  },
  {
   "cell_type": "code",
   "execution_count": 1,
   "id": "4c704b47",
   "metadata": {},
   "outputs": [
    {
     "name": "stdout",
     "output_type": "stream",
     "text": [
      "1 adalah bukan genap\n",
      "2 adalah genap\n",
      "3 adalah bukan genap\n",
      "4 adalah genap\n",
      "5 adalah bukan genap\n",
      "6 adalah genap\n"
     ]
    }
   ],
   "source": [
    "for i in range(1, 7):\n",
    "    if i % 2 == 0:\n",
    "        print('{} adalah genap'.format(i))\n",
    "    else:\n",
    "        print('{} adalah bukan genap'.format(i))"
   ]
  },
  {
   "cell_type": "markdown",
   "id": "0cc39e54",
   "metadata": {},
   "source": [
    "Task 1"
   ]
  },
  {
   "cell_type": "code",
   "execution_count": 2,
   "id": "3bd27cdf",
   "metadata": {},
   "outputs": [
    {
     "name": "stdout",
     "output_type": "stream",
     "text": [
      "15 Kelompok Anak-anak\n",
      "20 Kelompok Dewasa\n",
      "30 Kelompok Dewasa\n",
      "45 Kelompok Lansia\n"
     ]
    }
   ],
   "source": [
    "umur = [15, 20, 30, 45]\n",
    "\n",
    "for i in umur:\n",
    "    if i < 18:\n",
    "        print('{} Kelompok Anak-anak'.format(i))\n",
    "    elif i >= 18 and i < 40:\n",
    "        print('{} Kelompok Dewasa'.format(i))\n",
    "    else:\n",
    "        print('{} Kelompok Lansia'.format(i))"
   ]
  }
 ],
 "metadata": {
  "kernelspec": {
   "display_name": "Python 3 (ipykernel)",
   "language": "python",
   "name": "python3"
  },
  "language_info": {
   "codemirror_mode": {
    "name": "ipython",
    "version": 3
   },
   "file_extension": ".py",
   "mimetype": "text/x-python",
   "name": "python",
   "nbconvert_exporter": "python",
   "pygments_lexer": "ipython3",
   "version": "3.11.4"
  }
 },
 "nbformat": 4,
 "nbformat_minor": 5
}
