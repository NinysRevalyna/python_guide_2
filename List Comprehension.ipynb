{
 "cells": [
  {
   "cell_type": "markdown",
   "id": "7d9881f6",
   "metadata": {},
   "source": [
    "# List Comprehension (Creating a list with inline loop and if)"
   ]
  },
  {
   "cell_type": "markdown",
   "id": "f8753d1c",
   "metadata": {},
   "source": [
    "- There are times when we need to create a new list from the previous list operation.\n",
    "- List Comprehension is a way to generate new lists based on existing lists or iterables"
   ]
  },
  {
   "cell_type": "code",
   "execution_count": 1,
   "id": "0774cda6",
   "metadata": {},
   "outputs": [
    {
     "name": "stdout",
     "output_type": "stream",
     "text": [
      "[8, 27, 64]\n"
     ]
    }
   ],
   "source": [
    "angka = [2, 3, 4]\n",
    "kubik = []\n",
    "\n",
    "for i in angka:\n",
    "    kubik.append(i**3)\n",
    "print(kubik)"
   ]
  },
  {
   "cell_type": "markdown",
   "id": "7416aac7",
   "metadata": {},
   "source": [
    "Task 1"
   ]
  },
  {
   "cell_type": "code",
   "execution_count": 2,
   "id": "4e4f8632",
   "metadata": {},
   "outputs": [
    {
     "name": "stdout",
     "output_type": "stream",
     "text": [
      "['Grape', 'Apel']\n"
     ]
    }
   ],
   "source": [
    "fruits = ['Grape', 'Mango', 'Apel']\n",
    "new_fruits = []\n",
    "\n",
    "for i in fruits:\n",
    "    if 'e' in i:\n",
    "        new_fruits.append(i)\n",
    "print(new_fruits)"
   ]
  },
  {
   "cell_type": "code",
   "execution_count": 3,
   "id": "67b60806",
   "metadata": {},
   "outputs": [
    {
     "name": "stdout",
     "output_type": "stream",
     "text": [
      "[1, 4, 9, 16]\n"
     ]
    }
   ],
   "source": [
    "number = [1, 2, 3, 4]\n",
    "pangkat = []\n",
    "\n",
    "for i in number:\n",
    "    pangkat.append(i**2)\n",
    "print(pangkat)"
   ]
  },
  {
   "cell_type": "markdown",
   "id": "81176c99",
   "metadata": {},
   "source": [
    "Writing in another way"
   ]
  },
  {
   "cell_type": "markdown",
   "id": "0444fbc3",
   "metadata": {},
   "source": [
    "new_list = [expression for loop_one_or)more conditions]"
   ]
  },
  {
   "cell_type": "code",
   "execution_count": 4,
   "id": "9c0cc280",
   "metadata": {},
   "outputs": [
    {
     "name": "stdout",
     "output_type": "stream",
     "text": [
      "[8, 27, 64]\n"
     ]
    }
   ],
   "source": [
    "angka = [2, 3, 4]\n",
    "kubik = [i**3 for i in angka]\n",
    "\n",
    "print(kubik)"
   ]
  },
  {
   "cell_type": "code",
   "execution_count": 5,
   "id": "c2850cbb",
   "metadata": {},
   "outputs": [
    {
     "name": "stdout",
     "output_type": "stream",
     "text": [
      "['c']\n"
     ]
    }
   ],
   "source": [
    "abc = ['a', 'b', 'c']\n",
    "cde = ['c', 'd', 'e']\n",
    "\n",
    "duplikat = []\n",
    "\n",
    "for i in abc:\n",
    "    for j in cde:\n",
    "        if i == j:\n",
    "            duplikat.append(i)\n",
    "print(duplikat)"
   ]
  },
  {
   "cell_type": "code",
   "execution_count": 6,
   "id": "57a90590",
   "metadata": {},
   "outputs": [
    {
     "name": "stdout",
     "output_type": "stream",
     "text": [
      "['c']\n"
     ]
    }
   ],
   "source": [
    "abc = ['a', 'b', 'c']\n",
    "cde = ['c', 'd', 'e']\n",
    "\n",
    "duplikat = [i for i in abc for j in cde if i == j]\n",
    "print(duplikat)"
   ]
  },
  {
   "cell_type": "markdown",
   "id": "c10dbb37",
   "metadata": {},
   "source": [
    "Task 2"
   ]
  },
  {
   "cell_type": "code",
   "execution_count": 7,
   "id": "6f08a800",
   "metadata": {},
   "outputs": [
    {
     "name": "stdout",
     "output_type": "stream",
     "text": [
      "['Lulus', 'Lulus', 'Tidak Lulus', 'Lulus', 'Lulus']\n"
     ]
    }
   ],
   "source": [
    "grades = [85, 92, 78, 95, 88]\n",
    "result = [\"Lulus\" if grade >= 80 else \"Tidak Lulus\" for grade in grades]\n",
    "print(result)"
   ]
  },
  {
   "cell_type": "markdown",
   "id": "230ce97f",
   "metadata": {},
   "source": [
    "- Underscore includes valid variable names\n",
    "- In general \"_\" is usually used as a throwaway variable (unimportant variable)"
   ]
  },
  {
   "cell_type": "code",
   "execution_count": 8,
   "id": "695377a9",
   "metadata": {},
   "outputs": [
    {
     "name": "stdout",
     "output_type": "stream",
     "text": [
      "['DATA', 'SCIENCE']\n"
     ]
    }
   ],
   "source": [
    "data = ['data', 'science']\n",
    "\n",
    "upper = [_.upper() for _ in data]\n",
    "print(upper)"
   ]
  },
  {
   "cell_type": "code",
   "execution_count": 9,
   "id": "f9eca89d",
   "metadata": {},
   "outputs": [
    {
     "name": "stdout",
     "output_type": "stream",
     "text": [
      "[[1, 1], [9, 27], [25, 125], [49, 343]]\n"
     ]
    }
   ],
   "source": [
    "angka = range (1, 8, 2)\n",
    "kuadrat_kubik = [[_**2, _**3] for _ in angka]\n",
    "print(kuadrat_kubik)"
   ]
  },
  {
   "cell_type": "markdown",
   "id": "71482b2b",
   "metadata": {},
   "source": [
    "Task 3"
   ]
  },
  {
   "cell_type": "code",
   "execution_count": 10,
   "id": "257dae09",
   "metadata": {},
   "outputs": [
    {
     "name": "stdout",
     "output_type": "stream",
     "text": [
      "[[1, 1], [3, 27], [5, 125], [7, 343], [9, 729]]\n"
     ]
    }
   ],
   "source": [
    "num = range(1, 10, 2)\n",
    "kuadrat = [[_**1, _**3] for _ in num]\n",
    "print(kuadrat)"
   ]
  }
 ],
 "metadata": {
  "kernelspec": {
   "display_name": "Python 3 (ipykernel)",
   "language": "python",
   "name": "python3"
  },
  "language_info": {
   "codemirror_mode": {
    "name": "ipython",
    "version": 3
   },
   "file_extension": ".py",
   "mimetype": "text/x-python",
   "name": "python",
   "nbconvert_exporter": "python",
   "pygments_lexer": "ipython3",
   "version": "3.11.4"
  }
 },
 "nbformat": 4,
 "nbformat_minor": 5
}
